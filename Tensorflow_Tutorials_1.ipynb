{
  "nbformat": 4,
  "nbformat_minor": 0,
  "metadata": {
    "colab": {
      "name": "Tensorflow_Tutorials_1.ipynb",
      "provenance": [],
      "collapsed_sections": [],
      "authorship_tag": "ABX9TyO9XRh4xHQWIH2R50X4o8E3",
      "include_colab_link": true
    },
    "kernelspec": {
      "name": "python3",
      "display_name": "Python 3"
    }
  },
  "cells": [
    {
      "cell_type": "markdown",
      "metadata": {
        "id": "view-in-github",
        "colab_type": "text"
      },
      "source": [
        "<a href=\"https://colab.research.google.com/github/smhmurat/Keras_Tutorials/blob/master/Tensorflow_Tutorials_1.ipynb\" target=\"_parent\"><img src=\"https://colab.research.google.com/assets/colab-badge.svg\" alt=\"Open In Colab\"/></a>"
      ]
    },
    {
      "cell_type": "code",
      "metadata": {
        "id": "Ngr0Z1hfDAUs"
      },
      "source": [
        "import tensorflow as tf\n",
        "from tensorflow import keras\n",
        "import numpy as np\n",
        "import matplotlib.pyplot as plt"
      ],
      "execution_count": 1,
      "outputs": []
    },
    {
      "cell_type": "code",
      "metadata": {
        "id": "HcQjUGbHD-v3",
        "outputId": "ade08291-5373-45a9-9328-82d22bded4ee",
        "colab": {
          "base_uri": "https://localhost:8080/",
          "height": 34
        }
      },
      "source": [
        "print(tf.__version__)"
      ],
      "execution_count": 2,
      "outputs": [
        {
          "output_type": "stream",
          "text": [
            "2.3.0\n"
          ],
          "name": "stdout"
        }
      ]
    },
    {
      "cell_type": "code",
      "metadata": {
        "id": "oHReGLRHEE3o",
        "outputId": "21f6c76e-4e8d-4934-ee02-f64799dbd60d",
        "colab": {
          "base_uri": "https://localhost:8080/",
          "height": 153
        }
      },
      "source": [
        "fashion_minst = keras.datasets.fashion_mnist\n",
        "(train_images, train_labels), (test_images, test_labels) = fashion_minst.load_data()"
      ],
      "execution_count": 3,
      "outputs": [
        {
          "output_type": "stream",
          "text": [
            "Downloading data from https://storage.googleapis.com/tensorflow/tf-keras-datasets/train-labels-idx1-ubyte.gz\n",
            "32768/29515 [=================================] - 0s 0us/step\n",
            "Downloading data from https://storage.googleapis.com/tensorflow/tf-keras-datasets/train-images-idx3-ubyte.gz\n",
            "26427392/26421880 [==============================] - 0s 0us/step\n",
            "Downloading data from https://storage.googleapis.com/tensorflow/tf-keras-datasets/t10k-labels-idx1-ubyte.gz\n",
            "8192/5148 [===============================================] - 0s 0us/step\n",
            "Downloading data from https://storage.googleapis.com/tensorflow/tf-keras-datasets/t10k-images-idx3-ubyte.gz\n",
            "4423680/4422102 [==============================] - 0s 0us/step\n"
          ],
          "name": "stdout"
        }
      ]
    },
    {
      "cell_type": "code",
      "metadata": {
        "id": "F9oxtdwZETL0",
        "outputId": "5e2c7f96-6596-4d5c-de5c-bd8bbf2709a5",
        "colab": {
          "base_uri": "https://localhost:8080/",
          "height": 51
        }
      },
      "source": [
        "print(\"Train images shape: \", train_images.shape)\n",
        "print(\"Test images shape: \", test_images.shape)"
      ],
      "execution_count": 4,
      "outputs": [
        {
          "output_type": "stream",
          "text": [
            "Train images shape:  (60000, 28, 28)\n",
            "Test images shape:  (10000, 28, 28)\n"
          ],
          "name": "stdout"
        }
      ]
    },
    {
      "cell_type": "code",
      "metadata": {
        "id": "FJgWLUWREeEy",
        "outputId": "a29f50f2-7b37-491e-989e-6d51c24e8dc5",
        "colab": {
          "base_uri": "https://localhost:8080/",
          "height": 1000
        }
      },
      "source": [
        "plt.imshow(train_images[2000])\n",
        "print(train_images[2000])\n",
        "print(train_labels[2000])"
      ],
      "execution_count": 8,
      "outputs": [
        {
          "output_type": "stream",
          "text": [
            "[[  0   0   0   0   0   0   0   0   0   0   0   0   0  53  70  30   0   0\n",
            "    0   0   0   0   0   0   0   0   0   0]\n",
            " [  0   0   0   0   0   0   0   0   0   0  83 223 220 231 233 231 218 191\n",
            "   33   0   0   1   0   0   0   0   0   0]\n",
            " [  0   0   0   0   0   0   0   0   0 142 248 228 215 217 219 219 220 235\n",
            "  234 107   0   0   1   0   0   0   0   0]\n",
            " [  0   0   0   0   0   0   3   0  69 245 221 229 213 219 206 210 217 222\n",
            "  218 243  64   0   4   0   0   0   0   0]\n",
            " [  0   0   0   0   0   0   0   0 116 231 224 230 222 217 222 224 215 215\n",
            "  222 219   0   0   0   0   0   0   0   0]\n",
            " [  0   0   0   0   1   0   0 193 238 216 222 218 213 211 208 210 217 224\n",
            "  217 222 169   0   0   0   0   0   0   0]\n",
            " [  0   0   0   0   2   0  66 230 210 217 217 212 214 224 221 216 212 214\n",
            "  218 212 236 115   0   2   0   0   0   0]\n",
            " [  0   0   0   0   0   0 167 227 212 216 222 222 220 219 217 216 216 219\n",
            "  221 217 221 188   0   0   0   0   0   0]\n",
            " [  0   0   0   0   0   0 220 223 219 217 215 216 216 216 215 218 220 216\n",
            "  218 213 216 193   0   0   0   0   0   0]\n",
            " [  0   0   0   0   0   0 208 223 227 216 215 214 215 211 213 217 211 214\n",
            "  209 218 208 212  20   0   0   0   0   0]\n",
            " [  0   0   0   0   0  29 222 218 234 221 211 211 212 207 211 214 210 210\n",
            "  207 233 207 222  63   0   0   0   0   0]\n",
            " [  0   0   0   0   0  74 228 217 236 222 209 209 210 209 218 211 210 206\n",
            "  211 236 207 224 128   0   0   0   0   0]\n",
            " [  0   0   0   0   0 128 228 220 239 219 214 210 215 205 201 215 211 209\n",
            "  211 243 215 222 164   0   0   0   0   0]\n",
            " [  0   0   0   0   0 163 224 220 242 221 213 211 215 210 212 210 213 211\n",
            "  212 247 220 220 205   0   0   0   0   0]\n",
            " [  0   0   0   0   0 193 222 218 246 229 212 211 217 212 211 211 212 213\n",
            "  212 251 219 215 236   0   0   0   0   0]\n",
            " [  0   0   0   0   0 220 219 216 242 231 216 211 219 209 210 209 208 213\n",
            "  216 222 223 214 250   0   0   0   0   0]\n",
            " [  0   0   0   0   0 238 216 219 242 221 220 214 222 213 216 213 210 212\n",
            "  231 113 227 217 250  25   0   0   0   0]\n",
            " [  0   0   0   0   0 248 211 236 180 218 225 212 219 214 214 214 210 204\n",
            "  241 114 207 220 245  55   0   0   0   0]\n",
            " [  0   0   0   0   5 252 214 225 150 234 222 215 215 219 219 215 212 208\n",
            "  230 163 197 220 243  78   0   0   0   0]\n",
            " [  0   0   0   0  27 250 217 200 181 232 214 218 221 204 207 216 215 208\n",
            "  212 208 215 217 241  91   0   0   0   0]\n",
            " [  0   0   0   0  48 251 219 189 205 229 224 216 220 221 216 215 214 214\n",
            "  211 210 223 210 235 100   0   0   0   0]\n",
            " [  0   0   0   0  69 254 214 226 228 216 221 219 217 219 218 216 215 215\n",
            "  210 211 230 210 231 116   0   0   0   0]\n",
            " [  0   0   0   0  96 250 205 243 223 215 222 218 215 219 220 216 217 215\n",
            "  212 208 232 221 225 133   0   0   0   0]\n",
            " [  0   0   0   0 106 246 207 239 222 216 221 219 218 220 220 214 215 213\n",
            "  211 208 230 225 224 144   0   0   0   0]\n",
            " [  0   0   0   0 135 222 216 234 222 216 217 218 219 226 224 217 218 216\n",
            "  214 210 231 226 226 144   0   0   0   0]\n",
            " [  0   0   0   0 174 220 211 228 224 214 208 212 212 219 221 214 214 209\n",
            "  207 208 224 224 212 136   0   0   0   0]\n",
            " [  0   0   0   0 198 223 240 194 255 255 255 255 245 233 242 248 250 252\n",
            "  252 255 254 227 255 198   0   0   0   0]\n",
            " [  0   0   0   0   0  24   8   0  32  73 101 114 148 172 164 142 130 114\n",
            "  108  66   1 139 131  58   0   0   0   0]]\n",
            "4\n"
          ],
          "name": "stdout"
        },
        {
          "output_type": "display_data",
          "data": {
            "image/png": "[encoded data removed]",
            "text/plain": [
              "<Figure size 432x288 with 1 Axes>"
            ]
          },
          "metadata": {
            "tags": [],
            "needs_background": "light"
          }
        }
      ]
    },
    {
      "cell_type": "code",
      "metadata": {
        "id": "65fKFXieEp6y"
      },
      "source": [
        "train_images = train_images / 255.0\n",
        "test_images = test_images / 255.0"
      ],
      "execution_count": 9,
      "outputs": []
    },
    {
      "cell_type": "code",
      "metadata": {
        "id": "AlGlstL6FxGP",
        "outputId": "6017e349-7379-46cd-c259-3242f5fed9be",
        "colab": {
          "base_uri": "https://localhost:8080/",
          "height": 1000
        }
      },
      "source": [
        "plt.imshow(train_images[2000])\n",
        "print(train_images[2000])\n",
        "print(train_labels[2000])"
      ],
      "execution_count": 11,
      "outputs": [
        {
          "output_type": "stream",
          "text": [
            "[[0.         0.         0.         0.         0.         0.\n",
            "  0.         0.         0.         0.         0.         0.\n",
            "  0.         0.20784314 0.2745098  0.11764706 0.         0.\n",
            "  0.         0.         0.         0.         0.         0.\n",
            "  0.         0.         0.         0.        ]\n",
            " [0.         0.         0.         0.         0.         0.\n",
            "  0.         0.         0.         0.         0.3254902  0.8745098\n",
            "  0.8627451  0.90588235 0.91372549 0.90588235 0.85490196 0.74901961\n",
            "  0.12941176 0.         0.         0.00392157 0.         0.\n",
            "  0.         0.         0.         0.        ]\n",
            " [0.         0.         0.         0.         0.         0.\n",
            "  0.         0.         0.         0.55686275 0.97254902 0.89411765\n",
            "  0.84313725 0.85098039 0.85882353 0.85882353 0.8627451  0.92156863\n",
            "  0.91764706 0.41960784 0.         0.         0.00392157 0.\n",
            "  0.         0.         0.         0.        ]\n",
            " [0.         0.         0.         0.         0.         0.\n",
            "  0.01176471 0.         0.27058824 0.96078431 0.86666667 0.89803922\n",
            "  0.83529412 0.85882353 0.80784314 0.82352941 0.85098039 0.87058824\n",
            "  0.85490196 0.95294118 0.25098039 0.         0.01568627 0.\n",
            "  0.         0.         0.         0.        ]\n",
            " [0.         0.         0.         0.         0.         0.\n",
            "  0.         0.         0.45490196 0.90588235 0.87843137 0.90196078\n",
            "  0.87058824 0.85098039 0.87058824 0.87843137 0.84313725 0.84313725\n",
            "  0.87058824 0.85882353 0.         0.         0.         0.\n",
            "  0.         0.         0.         0.        ]\n",
            " [0.         0.         0.         0.         0.00392157 0.\n",
            "  0.         0.75686275 0.93333333 0.84705882 0.87058824 0.85490196\n",
            "  0.83529412 0.82745098 0.81568627 0.82352941 0.85098039 0.87843137\n",
            "  0.85098039 0.87058824 0.6627451  0.         0.         0.\n",
            "  0.         0.         0.         0.        ]\n",
            " [0.         0.         0.         0.         0.00784314 0.\n",
            "  0.25882353 0.90196078 0.82352941 0.85098039 0.85098039 0.83137255\n",
            "  0.83921569 0.87843137 0.86666667 0.84705882 0.83137255 0.83921569\n",
            "  0.85490196 0.83137255 0.9254902  0.45098039 0.         0.00784314\n",
            "  0.         0.         0.         0.        ]\n",
            " [0.         0.         0.         0.         0.         0.\n",
            "  0.65490196 0.89019608 0.83137255 0.84705882 0.87058824 0.87058824\n",
            "  0.8627451  0.85882353 0.85098039 0.84705882 0.84705882 0.85882353\n",
            "  0.86666667 0.85098039 0.86666667 0.7372549  0.         0.\n",
            "  0.         0.         0.         0.        ]\n",
            " [0.         0.         0.         0.         0.         0.\n",
            "  0.8627451  0.8745098  0.85882353 0.85098039 0.84313725 0.84705882\n",
            "  0.84705882 0.84705882 0.84313725 0.85490196 0.8627451  0.84705882\n",
            "  0.85490196 0.83529412 0.84705882 0.75686275 0.         0.\n",
            "  0.         0.         0.         0.        ]\n",
            " [0.         0.         0.         0.         0.         0.\n",
            "  0.81568627 0.8745098  0.89019608 0.84705882 0.84313725 0.83921569\n",
            "  0.84313725 0.82745098 0.83529412 0.85098039 0.82745098 0.83921569\n",
            "  0.81960784 0.85490196 0.81568627 0.83137255 0.07843137 0.\n",
            "  0.         0.         0.         0.        ]\n",
            " [0.         0.         0.         0.         0.         0.11372549\n",
            "  0.87058824 0.85490196 0.91764706 0.86666667 0.82745098 0.82745098\n",
            "  0.83137255 0.81176471 0.82745098 0.83921569 0.82352941 0.82352941\n",
            "  0.81176471 0.91372549 0.81176471 0.87058824 0.24705882 0.\n",
            "  0.         0.         0.         0.        ]\n",
            " [0.         0.         0.         0.         0.         0.29019608\n",
            "  0.89411765 0.85098039 0.9254902  0.87058824 0.81960784 0.81960784\n",
            "  0.82352941 0.81960784 0.85490196 0.82745098 0.82352941 0.80784314\n",
            "  0.82745098 0.9254902  0.81176471 0.87843137 0.50196078 0.\n",
            "  0.         0.         0.         0.        ]\n",
            " [0.         0.         0.         0.         0.         0.50196078\n",
            "  0.89411765 0.8627451  0.9372549  0.85882353 0.83921569 0.82352941\n",
            "  0.84313725 0.80392157 0.78823529 0.84313725 0.82745098 0.81960784\n",
            "  0.82745098 0.95294118 0.84313725 0.87058824 0.64313725 0.\n",
            "  0.         0.         0.         0.        ]\n",
            " [0.         0.         0.         0.         0.         0.63921569\n",
            "  0.87843137 0.8627451  0.94901961 0.86666667 0.83529412 0.82745098\n",
            "  0.84313725 0.82352941 0.83137255 0.82352941 0.83529412 0.82745098\n",
            "  0.83137255 0.96862745 0.8627451  0.8627451  0.80392157 0.\n",
            "  0.         0.         0.         0.        ]\n",
            " [0.         0.         0.         0.         0.         0.75686275\n",
            "  0.87058824 0.85490196 0.96470588 0.89803922 0.83137255 0.82745098\n",
            "  0.85098039 0.83137255 0.82745098 0.82745098 0.83137255 0.83529412\n",
            "  0.83137255 0.98431373 0.85882353 0.84313725 0.9254902  0.\n",
            "  0.         0.         0.         0.        ]\n",
            " [0.         0.         0.         0.         0.         0.8627451\n",
            "  0.85882353 0.84705882 0.94901961 0.90588235 0.84705882 0.82745098\n",
            "  0.85882353 0.81960784 0.82352941 0.81960784 0.81568627 0.83529412\n",
            "  0.84705882 0.87058824 0.8745098  0.83921569 0.98039216 0.\n",
            "  0.         0.         0.         0.        ]\n",
            " [0.         0.         0.         0.         0.         0.93333333\n",
            "  0.84705882 0.85882353 0.94901961 0.86666667 0.8627451  0.83921569\n",
            "  0.87058824 0.83529412 0.84705882 0.83529412 0.82352941 0.83137255\n",
            "  0.90588235 0.44313725 0.89019608 0.85098039 0.98039216 0.09803922\n",
            "  0.         0.         0.         0.        ]\n",
            " [0.         0.         0.         0.         0.         0.97254902\n",
            "  0.82745098 0.9254902  0.70588235 0.85490196 0.88235294 0.83137255\n",
            "  0.85882353 0.83921569 0.83921569 0.83921569 0.82352941 0.8\n",
            "  0.94509804 0.44705882 0.81176471 0.8627451  0.96078431 0.21568627\n",
            "  0.         0.         0.         0.        ]\n",
            " [0.         0.         0.         0.         0.01960784 0.98823529\n",
            "  0.83921569 0.88235294 0.58823529 0.91764706 0.87058824 0.84313725\n",
            "  0.84313725 0.85882353 0.85882353 0.84313725 0.83137255 0.81568627\n",
            "  0.90196078 0.63921569 0.77254902 0.8627451  0.95294118 0.30588235\n",
            "  0.         0.         0.         0.        ]\n",
            " [0.         0.         0.         0.         0.10588235 0.98039216\n",
            "  0.85098039 0.78431373 0.70980392 0.90980392 0.83921569 0.85490196\n",
            "  0.86666667 0.8        0.81176471 0.84705882 0.84313725 0.81568627\n",
            "  0.83137255 0.81568627 0.84313725 0.85098039 0.94509804 0.35686275\n",
            "  0.         0.         0.         0.        ]\n",
            " [0.         0.         0.         0.         0.18823529 0.98431373\n",
            "  0.85882353 0.74117647 0.80392157 0.89803922 0.87843137 0.84705882\n",
            "  0.8627451  0.86666667 0.84705882 0.84313725 0.83921569 0.83921569\n",
            "  0.82745098 0.82352941 0.8745098  0.82352941 0.92156863 0.39215686\n",
            "  0.         0.         0.         0.        ]\n",
            " [0.         0.         0.         0.         0.27058824 0.99607843\n",
            "  0.83921569 0.88627451 0.89411765 0.84705882 0.86666667 0.85882353\n",
            "  0.85098039 0.85882353 0.85490196 0.84705882 0.84313725 0.84313725\n",
            "  0.82352941 0.82745098 0.90196078 0.82352941 0.90588235 0.45490196\n",
            "  0.         0.         0.         0.        ]\n",
            " [0.         0.         0.         0.         0.37647059 0.98039216\n",
            "  0.80392157 0.95294118 0.8745098  0.84313725 0.87058824 0.85490196\n",
            "  0.84313725 0.85882353 0.8627451  0.84705882 0.85098039 0.84313725\n",
            "  0.83137255 0.81568627 0.90980392 0.86666667 0.88235294 0.52156863\n",
            "  0.         0.         0.         0.        ]\n",
            " [0.         0.         0.         0.         0.41568627 0.96470588\n",
            "  0.81176471 0.9372549  0.87058824 0.84705882 0.86666667 0.85882353\n",
            "  0.85490196 0.8627451  0.8627451  0.83921569 0.84313725 0.83529412\n",
            "  0.82745098 0.81568627 0.90196078 0.88235294 0.87843137 0.56470588\n",
            "  0.         0.         0.         0.        ]\n",
            " [0.         0.         0.         0.         0.52941176 0.87058824\n",
            "  0.84705882 0.91764706 0.87058824 0.84705882 0.85098039 0.85490196\n",
            "  0.85882353 0.88627451 0.87843137 0.85098039 0.85490196 0.84705882\n",
            "  0.83921569 0.82352941 0.90588235 0.88627451 0.88627451 0.56470588\n",
            "  0.         0.         0.         0.        ]\n",
            " [0.         0.         0.         0.         0.68235294 0.8627451\n",
            "  0.82745098 0.89411765 0.87843137 0.83921569 0.81568627 0.83137255\n",
            "  0.83137255 0.85882353 0.86666667 0.83921569 0.83921569 0.81960784\n",
            "  0.81176471 0.81568627 0.87843137 0.87843137 0.83137255 0.53333333\n",
            "  0.         0.         0.         0.        ]\n",
            " [0.         0.         0.         0.         0.77647059 0.8745098\n",
            "  0.94117647 0.76078431 1.         1.         1.         1.\n",
            "  0.96078431 0.91372549 0.94901961 0.97254902 0.98039216 0.98823529\n",
            "  0.98823529 1.         0.99607843 0.89019608 1.         0.77647059\n",
            "  0.         0.         0.         0.        ]\n",
            " [0.         0.         0.         0.         0.         0.09411765\n",
            "  0.03137255 0.         0.1254902  0.28627451 0.39607843 0.44705882\n",
            "  0.58039216 0.6745098  0.64313725 0.55686275 0.50980392 0.44705882\n",
            "  0.42352941 0.25882353 0.00392157 0.54509804 0.51372549 0.22745098\n",
            "  0.         0.         0.         0.        ]]\n",
            "4\n"
          ],
          "name": "stdout"
        },
        {
          "output_type": "display_data",
          "data": {
            "image/png": "[encoded data removed]",
            "text/plain": [
              "<Figure size 432x288 with 1 Axes>"
            ]
          },
          "metadata": {
            "tags": [],
            "needs_background": "light"
          }
        }
      ]
    },
    {
      "cell_type": "code",
      "metadata": {
        "id": "heWdFj7pF2Ki"
      },
      "source": [
        "model = keras.Sequential([\n",
        "        keras.layers.Flatten(input_shape=(28,28)),\n",
        "        keras.layers.Dense(128, activation=tf.nn.relu),\n",
        "        keras.layers.Dense(10, activation=tf.nn.softmax)\n",
        "])"
      ],
      "execution_count": 13,
      "outputs": []
    },
    {
      "cell_type": "code",
      "metadata": {
        "id": "jd2raEkCGVpW"
      },
      "source": [
        "model.compile(optimizer='adam', loss='sparse_categorical_crossentropy')"
      ],
      "execution_count": 14,
      "outputs": []
    },
    {
      "cell_type": "code",
      "metadata": {
        "id": "s_dEjolFGetG",
        "outputId": "cc0fe610-3a20-4dbb-b9b6-a054e40787fb",
        "colab": {
          "base_uri": "https://localhost:8080/",
          "height": 1000
        }
      },
      "source": [
        "model.fit(train_images, train_labels, epochs=50)"
      ],
      "execution_count": 21,
      "outputs": [
        {
          "output_type": "stream",
          "text": [
            "Epoch 1/50\n",
            "1875/1875 [==============================] - 3s 2ms/step - loss: 0.0751\n",
            "Epoch 2/50\n",
            "1875/1875 [==============================] - 3s 2ms/step - loss: 0.0735\n",
            "Epoch 3/50\n",
            "1875/1875 [==============================] - 3s 2ms/step - loss: 0.0747\n",
            "Epoch 4/50\n",
            "1875/1875 [==============================] - 3s 2ms/step - loss: 0.0717\n",
            "Epoch 5/50\n",
            "1875/1875 [==============================] - 3s 2ms/step - loss: 0.0712\n",
            "Epoch 6/50\n",
            "1875/1875 [==============================] - 3s 2ms/step - loss: 0.0688\n",
            "Epoch 7/50\n",
            "1875/1875 [==============================] - 3s 2ms/step - loss: 0.0713\n",
            "Epoch 8/50\n",
            "1875/1875 [==============================] - 3s 2ms/step - loss: 0.0672\n",
            "Epoch 9/50\n",
            "1875/1875 [==============================] - 3s 2ms/step - loss: 0.0681\n",
            "Epoch 10/50\n",
            "1875/1875 [==============================] - 3s 2ms/step - loss: 0.0647\n",
            "Epoch 11/50\n",
            "1875/1875 [==============================] - 3s 2ms/step - loss: 0.0653\n",
            "Epoch 12/50\n",
            "1875/1875 [==============================] - 3s 2ms/step - loss: 0.0660\n",
            "Epoch 13/50\n",
            "1875/1875 [==============================] - 3s 2ms/step - loss: 0.0619\n",
            "Epoch 14/50\n",
            "1875/1875 [==============================] - 3s 2ms/step - loss: 0.0628\n",
            "Epoch 15/50\n",
            "1875/1875 [==============================] - 3s 2ms/step - loss: 0.0618\n",
            "Epoch 16/50\n",
            "1875/1875 [==============================] - 3s 2ms/step - loss: 0.0602\n",
            "Epoch 17/50\n",
            "1875/1875 [==============================] - 3s 2ms/step - loss: 0.0606\n",
            "Epoch 18/50\n",
            "1875/1875 [==============================] - 3s 2ms/step - loss: 0.0626\n",
            "Epoch 19/50\n",
            "1875/1875 [==============================] - 3s 2ms/step - loss: 0.0574\n",
            "Epoch 20/50\n",
            "1875/1875 [==============================] - 3s 2ms/step - loss: 0.0603\n",
            "Epoch 21/50\n",
            "1875/1875 [==============================] - 3s 2ms/step - loss: 0.0579\n",
            "Epoch 22/50\n",
            "1875/1875 [==============================] - 3s 2ms/step - loss: 0.0566\n",
            "Epoch 23/50\n",
            "1875/1875 [==============================] - 3s 2ms/step - loss: 0.0571\n",
            "Epoch 24/50\n",
            "1875/1875 [==============================] - 3s 2ms/step - loss: 0.0556\n",
            "Epoch 25/50\n",
            "1875/1875 [==============================] - 3s 2ms/step - loss: 0.0562\n",
            "Epoch 26/50\n",
            "1875/1875 [==============================] - 3s 2ms/step - loss: 0.0555\n",
            "Epoch 27/50\n",
            "1875/1875 [==============================] - 3s 2ms/step - loss: 0.0556\n",
            "Epoch 28/50\n",
            "1875/1875 [==============================] - 3s 2ms/step - loss: 0.0546\n",
            "Epoch 29/50\n",
            "1875/1875 [==============================] - 3s 2ms/step - loss: 0.0525\n",
            "Epoch 30/50\n",
            "1875/1875 [==============================] - 3s 2ms/step - loss: 0.0511\n",
            "Epoch 31/50\n",
            "1875/1875 [==============================] - 3s 2ms/step - loss: 0.0522\n",
            "Epoch 32/50\n",
            "1875/1875 [==============================] - 3s 2ms/step - loss: 0.0524\n",
            "Epoch 33/50\n",
            "1875/1875 [==============================] - 3s 2ms/step - loss: 0.0516\n",
            "Epoch 34/50\n",
            "1875/1875 [==============================] - 3s 2ms/step - loss: 0.0483\n",
            "Epoch 35/50\n",
            "1875/1875 [==============================] - 3s 2ms/step - loss: 0.0512\n",
            "Epoch 36/50\n",
            "1875/1875 [==============================] - 3s 2ms/step - loss: 0.0502\n",
            "Epoch 37/50\n",
            "1875/1875 [==============================] - 3s 2ms/step - loss: 0.0484\n",
            "Epoch 38/50\n",
            "1875/1875 [==============================] - 3s 2ms/step - loss: 0.0483\n",
            "Epoch 39/50\n",
            "1875/1875 [==============================] - 3s 2ms/step - loss: 0.0461\n",
            "Epoch 40/50\n",
            "1875/1875 [==============================] - 3s 2ms/step - loss: 0.0481\n",
            "Epoch 41/50\n",
            "1875/1875 [==============================] - 3s 2ms/step - loss: 0.0503\n",
            "Epoch 42/50\n",
            "1875/1875 [==============================] - 3s 2ms/step - loss: 0.0484\n",
            "Epoch 43/50\n",
            "1875/1875 [==============================] - 3s 2ms/step - loss: 0.0463\n",
            "Epoch 44/50\n",
            "1875/1875 [==============================] - 3s 2ms/step - loss: 0.0456\n",
            "Epoch 45/50\n",
            "1875/1875 [==============================] - 3s 2ms/step - loss: 0.0459\n",
            "Epoch 46/50\n",
            "1875/1875 [==============================] - 3s 2ms/step - loss: 0.0469\n",
            "Epoch 47/50\n",
            "1875/1875 [==============================] - 3s 2ms/step - loss: 0.0434\n",
            "Epoch 48/50\n",
            "1875/1875 [==============================] - 4s 2ms/step - loss: 0.0464\n",
            "Epoch 49/50\n",
            "1875/1875 [==============================] - 4s 2ms/step - loss: 0.0452\n",
            "Epoch 50/50\n",
            "1875/1875 [==============================] - 3s 2ms/step - loss: 0.0443\n"
          ],
          "name": "stdout"
        },
        {
          "output_type": "execute_result",
          "data": {
            "text/plain": [
              "<tensorflow.python.keras.callbacks.History at 0x7f73891b5780>"
            ]
          },
          "metadata": {
            "tags": []
          },
          "execution_count": 21
        }
      ]
    },
    {
      "cell_type": "code",
      "metadata": {
        "id": "Tn0ro5dZGozS",
        "outputId": "4923dd33-e074-4d6e-c471-d5caad6a261d",
        "colab": {
          "base_uri": "https://localhost:8080/",
          "height": 51
        }
      },
      "source": [
        "model.evaluate(test_images, test_labels)"
      ],
      "execution_count": 25,
      "outputs": [
        {
          "output_type": "stream",
          "text": [
            "313/313 [==============================] - 0s 995us/step - loss: 0.9177\n"
          ],
          "name": "stdout"
        },
        {
          "output_type": "execute_result",
          "data": {
            "text/plain": [
              "0.9176854491233826"
            ]
          },
          "metadata": {
            "tags": []
          },
          "execution_count": 25
        }
      ]
    },
    {
      "cell_type": "code",
      "metadata": {
        "id": "jSa1AFNKHg1g",
        "outputId": "e6de5f5c-7240-4dac-f2f2-c94441045df5",
        "colab": {
          "base_uri": "https://localhost:8080/",
          "height": 34
        }
      },
      "source": [
        "print(test_images.shape)"
      ],
      "execution_count": 24,
      "outputs": [
        {
          "output_type": "stream",
          "text": [
            "(10000, 28, 28)\n"
          ],
          "name": "stdout"
        }
      ]
    },
    {
      "cell_type": "code",
      "metadata": {
        "id": "czpnwRwZI5gH"
      },
      "source": [
        ""
      ],
      "execution_count": null,
      "outputs": []
    }
  ]
}